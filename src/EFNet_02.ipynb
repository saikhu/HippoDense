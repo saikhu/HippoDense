{
 "cells": [
  {
   "cell_type": "markdown",
   "metadata": {},
   "source": [
    "# 3D classification example based on DenseNet\n",
    "\n",
    "This tutorial shows an example of 3D classification task based on DenseNet and array format transforms.\n",
    "\n",
    "Here, the task is given to classify MR images into male/female.\n",
    "\n",
    "[![Open In Colab](https://colab.research.google.com/assets/colab-badge.svg)](https://colab.research.google.com/github/Project-MONAI/tutorials/blob/main/3d_classification/torch/densenet_training_array.ipynb)"
   ]
  },
  {
   "cell_type": "markdown",
   "metadata": {},
   "source": [
    "## Setup environment"
   ]
  },
  {
   "cell_type": "code",
   "execution_count": 4,
   "metadata": {},
   "outputs": [],
   "source": [
    "!python -c \"import monai\" || pip install -q \"monai-weekly[nibabel, tqdm]\"\n"
   ]
  },
  {
   "cell_type": "markdown",
   "metadata": {},
   "source": [
    "## Setup imports"
   ]
  },
  {
   "cell_type": "code",
   "execution_count": 2,
   "metadata": {},
   "outputs": [
    {
     "name": "stderr",
     "output_type": "stream",
     "text": [
      "/opt/conda/lib/python3.8/site-packages/tqdm/auto.py:22: TqdmWarning: IProgress not found. Please update jupyter and ipywidgets. See https://ipywidgets.readthedocs.io/en/stable/user_install.html\n",
      "  from .autonotebook import tqdm as notebook_tqdm\n"
     ]
    },
    {
     "name": "stdout",
     "output_type": "stream",
     "text": [
      "MONAI version: 0.8.1+253.ge8d2d4f4\n",
      "Numpy version: 1.22.3\n",
      "Pytorch version: 1.12.0a0+bd13bc6\n",
      "MONAI flags: HAS_EXT = True, USE_COMPILED = False\n",
      "MONAI rev id: e8d2d4f4018217347dc41b8b87eb13bfe75bf3be\n",
      "MONAI __file__: /opt/monai/monai/__init__.py\n",
      "\n",
      "Optional dependencies:\n",
      "Pytorch Ignite version: 0.4.8\n",
      "Nibabel version: 3.2.2\n",
      "scikit-image version: 0.19.2\n",
      "Pillow version: 9.0.1\n",
      "Tensorboard version: 2.8.0\n",
      "gdown version: 4.4.0\n",
      "TorchVision version: 0.13.0a0\n",
      "tqdm version: 4.64.0\n",
      "lmdb version: 1.3.0\n",
      "psutil version: 5.9.0\n",
      "pandas version: 1.3.5\n",
      "einops version: 0.4.1\n",
      "transformers version: 4.19.1\n",
      "mlflow version: 1.25.1\n",
      "pynrrd version: 0.4.3\n",
      "\n",
      "For details about installing the optional dependencies, please visit:\n",
      "    https://docs.monai.io/en/latest/installation.html#installing-the-recommended-dependencies\n",
      "\n"
     ]
    }
   ],
   "source": [
    "# Copyright 2020 MONAI Consortium\n",
    "# Licensed under the Apache License, Version 2.0 (the \"License\");\n",
    "# you may not use this file except in compliance with the License.\n",
    "# You may obtain a copy of the License at\n",
    "#     http://www.apache.org/licenses/LICENSE-2.0\n",
    "# Unless required by applicable law or agreed to in writing, software\n",
    "# distributed under the License is distributed on an \"AS IS\" BASIS,\n",
    "# WITHOUT WARRANTIES OR CONDITIONS OF ANY KIND, either express or implied.\n",
    "# See the License for the specific language governing permissions and\n",
    "# limitations under the License.\n",
    "\n",
    "import logging\n",
    "import os\n",
    "import sys\n",
    "import shutil\n",
    "import tempfile\n",
    "\n",
    "import matplotlib.pyplot as plt\n",
    "import torch\n",
    "torch.cuda.empty_cache()\n",
    "from torch.utils.tensorboard import SummaryWriter\n",
    "import numpy as np\n",
    "\n",
    "import monai\n",
    "from monai.apps import download_and_extract\n",
    "from monai.config import print_config\n",
    "from monai.data import DataLoader, ImageDataset\n",
    "from monai.transforms import (\n",
    "    AddChannel,\n",
    "    Compose,\n",
    "    RandRotate90,\n",
    "    Resize,\n",
    "    ScaleIntensity,\n",
    "    EnsureType\n",
    ")\n",
    "import pickle\n",
    "import time\n",
    "\n",
    "pin_memory = torch.cuda.is_available()\n",
    "device = torch.device(\"cuda:0\" if torch.cuda.is_available() else \"cpu\")\n",
    "torch.cuda.empty_cache()\n",
    "logging.basicConfig(stream=sys.stdout, level=logging.INFO)\n",
    "print_config()\n"
   ]
  },
  {
   "cell_type": "code",
   "execution_count": 5,
   "metadata": {},
   "outputs": [
    {
     "name": "stdout",
     "output_type": "stream",
     "text": [
      "115: images cannot be used.\n",
      "251: total images prepared with 2 different classes\n"
     ]
    }
   ],
   "source": [
    "# set this in your environment or previous cell to wherever IXI is downloaded and extracted\n",
    "modelName = 'EfficientNet_Repeat'\n",
    "RunFolder = os.path.join(\"/HippoDense/\", modelName)\n",
    "DatasetDir = \"/Datasets/01_P_Classification_all_hippo\"\n",
    "labels = []\n",
    "images = []\n",
    "NotFitImages = []\n",
    "for root, dirs, files in os.walk(os.path.abspath(DatasetDir)):\n",
    "    for file in files:\n",
    "        # if file.split(\"_\")[-3] == \"L\":\n",
    "        #     labels.append(2)\n",
    "        #     images.append(os.path.join(root, file))\n",
    "        # elif file.split(\"_\")[-3] == \"E\":\n",
    "        #     labels.append(1)\n",
    "        #     images.append(os.path.join(root, file))\n",
    "        if file.split(\"_\")[-2] == \"Normal\":\n",
    "            labels.append('Normal')\n",
    "            images.append(os.path.join(root, file))\n",
    "        elif file.split(\"_\")[-2] == \"Dementia\":\n",
    "            labels.append('Dementia')\n",
    "            images.append(os.path.join(root, file))\n",
    "        else:\n",
    "            NotFitImages.append(file)\n",
    "            # print(file)\n",
    "print(\"{}: images cannot be used.\".format(len(NotFitImages)))\n",
    "# # labels = np.load(\n",
    "#     '/workspace/monai/MONAI-tutorials/3d_classification/01_P_Classification_all_labels.npy')\n",
    "NumClasses = len(np.unique(labels))\n",
    "# ClassLabels = np.array(Labels)\n",
    "if len(images)==len(labels):\n",
    "    print(\"{}: total images prepared with {} different classes\".format(len(images), NumClasses))\n",
    "\n",
    "# 2 binary labels for gender classification: man or woman\n",
    "# labels = np.array([0, 0, 0, 1, 0, 0, 0, 1, 1, 0, 0, 0, 1, 0, 1, 0, 1, 0, 1, 0])\n",
    "\n",
    "# Represent labels in one-hot format for binary classifier training,\n",
    "# BCEWithLogitsLoss requires target to have same shape as input\n",
    "# labels = torch.nn.functional.one_hot(torch.as_tensor(labels)).float()"
   ]
  },
  {
   "cell_type": "code",
   "execution_count": 7,
   "metadata": {},
   "outputs": [],
   "source": [
    "# Define transforms\n",
    "\n",
    "train_transforms = Compose([ScaleIntensity(), AddChannel(), Resize((224, 224, 224)), RandRotate90(), EnsureType()])\n",
    "val_transforms = Compose([ScaleIntensity(), AddChannel(), Resize((224, 224, 224)), EnsureType()])\n",
    "\n",
    "# train_transforms = Compose([ScaleIntensity(), AddChannel(), Resize((96, 96, 96)), RandRotate90(), EnsureType()])\n",
    "# val_transforms = Compose([ScaleIntensity(), AddChannel(), Resize((96, 96, 96)), EnsureType()])\n",
    "\n",
    "# Define nifti dataset, data loader\n",
    "check_ds = ImageDataset(image_files=images, labels=labels, transform=train_transforms)\n",
    "check_loader = DataLoader(check_ds, batch_size=3, num_workers=2, pin_memory=pin_memory)\n",
    "\n",
    "im, label = monai.utils.misc.first(check_loader)\n",
    "# print(type(im), im.shape, label, label.shape)\n",
    "\n",
    "# create a training data loader\n",
    "train_ds = ImageDataset(image_files=images[:200], labels=labels[:200], transform=train_transforms)\n",
    "train_loader = DataLoader(train_ds, batch_size=2, shuffle=True, num_workers=0, pin_memory=pin_memory)\n",
    "\n",
    "# create a validation data loader\n",
    "val_ds = ImageDataset(image_files=images[200:], labels=labels[200:], transform=val_transforms)\n",
    "# val_loader = DataLoader(val_ds, batch_size=4, num_workers=4, pin_memory=pin_memory)\n",
    "val_loader = DataLoader(val_ds, batch_size=1, num_workers=0, pin_memory=pin_memory)"
   ]
  },
  {
   "cell_type": "code",
   "execution_count": 8,
   "metadata": {},
   "outputs": [
    {
     "name": "stdout",
     "output_type": "stream",
     "text": [
      "----------\n",
      "epoch 1/150\n"
     ]
    },
    {
     "ename": "AttributeError",
     "evalue": "'list' object has no attribute 'to'",
     "output_type": "error",
     "traceback": [
      "\u001b[0;31m---------------------------------------------------------------------------\u001b[0m",
      "\u001b[0;31mAttributeError\u001b[0m                            Traceback (most recent call last)",
      "\u001b[1;32m/HippoDense/src/EFNet_02.ipynb Cell 8'\u001b[0m in \u001b[0;36m<cell line: 22>\u001b[0;34m()\u001b[0m\n\u001b[1;32m     <a href='vscode-notebook-cell://attached-container%2B7b22636f6e7461696e65724e616d65223a222f6164436c617373696669636174696f6e486970706f44222c2273657474696e6773223a7b22686f7374223a227373683a2f2f3130362e3234302e3233342e313135227d7d/HippoDense/src/EFNet_02.ipynb#ch0000009vscode-remote?line=28'>29</a>\u001b[0m \u001b[39mfor\u001b[39;00m batch_data \u001b[39min\u001b[39;00m train_loader:\n\u001b[1;32m     <a href='vscode-notebook-cell://attached-container%2B7b22636f6e7461696e65724e616d65223a222f6164436c617373696669636174696f6e486970706f44222c2273657474696e6773223a7b22686f7374223a227373683a2f2f3130362e3234302e3233342e313135227d7d/HippoDense/src/EFNet_02.ipynb#ch0000009vscode-remote?line=29'>30</a>\u001b[0m     step \u001b[39m+\u001b[39m\u001b[39m=\u001b[39m \u001b[39m1\u001b[39m\n\u001b[0;32m---> <a href='vscode-notebook-cell://attached-container%2B7b22636f6e7461696e65724e616d65223a222f6164436c617373696669636174696f6e486970706f44222c2273657474696e6773223a7b22686f7374223a227373683a2f2f3130362e3234302e3233342e313135227d7d/HippoDense/src/EFNet_02.ipynb#ch0000009vscode-remote?line=30'>31</a>\u001b[0m     inputs, labels \u001b[39m=\u001b[39m batch_data[\u001b[39m0\u001b[39m]\u001b[39m.\u001b[39mto(device), batch_data[\u001b[39m1\u001b[39;49m]\u001b[39m.\u001b[39;49mto(device)\n\u001b[1;32m     <a href='vscode-notebook-cell://attached-container%2B7b22636f6e7461696e65724e616d65223a222f6164436c617373696669636174696f6e486970706f44222c2273657474696e6773223a7b22686f7374223a227373683a2f2f3130362e3234302e3233342e313135227d7d/HippoDense/src/EFNet_02.ipynb#ch0000009vscode-remote?line=31'>32</a>\u001b[0m     optimizer\u001b[39m.\u001b[39mzero_grad()\n\u001b[1;32m     <a href='vscode-notebook-cell://attached-container%2B7b22636f6e7461696e65724e616d65223a222f6164436c617373696669636174696f6e486970706f44222c2273657474696e6773223a7b22686f7374223a227373683a2f2f3130362e3234302e3233342e313135227d7d/HippoDense/src/EFNet_02.ipynb#ch0000009vscode-remote?line=32'>33</a>\u001b[0m     outputs \u001b[39m=\u001b[39m model(inputs)\n",
      "\u001b[0;31mAttributeError\u001b[0m: 'list' object has no attribute 'to'"
     ]
    }
   ],
   "source": [
    "# Create DenseNet121, CrossEntropyLoss and Adam optimizer\n",
    "# model = monai.networks.nets.DenseNet264(spatial_dims=3, in_channels=1, out_channels=2, growth_rate = 40).to(device)\n",
    "\n",
    "model = monai.networks.nets.EfficientNetBN('efficientnet-b1', spatial_dims=3, in_channels=1, num_classes=2).to(device)\n",
    "\n",
    "\n",
    "loss_function = torch.nn.CrossEntropyLoss()\n",
    "# loss_function = torch.nn.BCEWithLogitsLoss()  # also works with this data\n",
    "\n",
    "optimizer = torch.optim.Adam(model.parameters(), 1e-4)\n",
    "\n",
    "# start a typical PyTorch training\n",
    "val_interval = 2\n",
    "best_metric = -1\n",
    "best_metric_epoch = -1\n",
    "epoch_loss_values = []\n",
    "metric_values = []\n",
    "\n",
    "writer = SummaryWriter(modelName)\n",
    "max_epochs = 150\n",
    "\n",
    "for epoch in range(max_epochs):\n",
    "    print(\"-\" * 10)\n",
    "    print(f\"epoch {epoch + 1}/{max_epochs}\")\n",
    "    model.train()\n",
    "    epoch_loss = 0\n",
    "    step = 0\n",
    "\n",
    "    for batch_data in train_loader:\n",
    "        step += 1\n",
    "        print\n",
    "        inputs, labels = batch_data[0].to(device), batch_data[1].to(device)\n",
    "        optimizer.zero_grad()\n",
    "        outputs = model(inputs)\n",
    "        loss = loss_function(outputs, labels)\n",
    "        loss.backward()\n",
    "        optimizer.step()\n",
    "        epoch_loss += loss.item()\n",
    "        epoch_len = len(train_ds) // train_loader.batch_size\n",
    "        print(f\"{step}/{epoch_len}, train_loss: {loss.item():.4f}\")\n",
    "        writer.add_scalar(\"train_loss\", loss.item(), epoch_len * epoch + step)\n",
    "\n",
    "    epoch_loss /= step\n",
    "    epoch_loss_values.append(epoch_loss)\n",
    "    print(f\"epoch {epoch + 1} average loss: {epoch_loss:.4f}\")\n",
    "\n",
    "    if (epoch + 1) % val_interval == 0:\n",
    "        model.eval()\n",
    "\n",
    "        num_correct = 0.0\n",
    "        metric_count = 0\n",
    "        for val_data in val_loader:\n",
    "            val_images, val_labels = val_data[0].to(device), val_data[1].to(device)\n",
    "            with torch.no_grad():\n",
    "                val_outputs = model(val_images)\n",
    "                value = torch.eq(val_outputs.argmax(dim=1), val_labels.argmax(dim=1))\n",
    "                metric_count += len(value)\n",
    "                num_correct += value.sum().item()\n",
    "\n",
    "        metric = num_correct / metric_count\n",
    "        metric_values.append(metric)\n",
    "\n",
    "        if metric > best_metric:\n",
    "            best_metric = metric\n",
    "            best_metric_epoch = epoch + 1\n",
    "            torch.save(model.state_dict(), \"best_metric_model_classification3d_array.pth\")\n",
    "            modelPickle = os.path.join(RunFolder, modelName + time.strftime(\"_%Y%m%d_%H%M%S\") + '.pickle')\n",
    "            if not os.path.exists(RunFolder):\n",
    "                os.makedirs(RunFolder)\n",
    "            \n",
    "            with open(modelPickle, 'wb') as f:\n",
    "                pickle.dump(model, f)\n",
    "            f.close()\n",
    "            print(\"saved new best metric model = {}\".format(modelPickle))\n",
    "\n",
    "        print(f\"Current epoch: {epoch+1} current accuracy: {metric:.4f} \")\n",
    "        print(f\"Best accuracy: {best_metric:.4f} at epoch {best_metric_epoch}\")\n",
    "        writer.add_scalar(\"val_accuracy\", metric, epoch + 1)\n",
    "\n",
    "print(f\"Training completed, best_metric: {best_metric:.4f} at epoch: {best_metric_epoch}\")\n",
    "writer.close()"
   ]
  },
  {
   "cell_type": "code",
   "execution_count": null,
   "metadata": {},
   "outputs": [],
   "source": [
    "model.load_state_dict(torch.load(\n",
    "    os.path.join(root_dir, \"best_metric_model.pth\")))\n",
    "model.eval()\n",
    "y_true = []\n",
    "y_pred = []\n",
    "with torch.no_grad():\n",
    "    for test_data in test_loader:\n",
    "        test_images, test_labels = (\n",
    "            test_data[0].to(device),\n",
    "            test_data[1].to(device),\n",
    "        )\n",
    "        pred = model(test_images).argmax(dim=1)\n",
    "        for i in range(len(pred)):\n",
    "            y_true.append(test_labels[i].item())\n",
    "            y_pred.append(pred[i].item())\n",
    "print(classification_report(\n",
    "    y_true, y_pred, target_names=class_names, digits=4))\n"
   ]
  },
  {
   "cell_type": "markdown",
   "metadata": {},
   "source": [
    "# Occlusion sensitivity\n",
    "One method for trying to visualise why the network made a given prediction is occlusion sensitivity. We occlude part of the image, and see how the probability of a given prediction changes. We then iterate over the image, moving the occluded portion as we go, and in doing so we build up a sensitivity map detailing which areas were the most important in making the decision.\n",
    "\n",
    "#### Bounds\n",
    "If we were to test the occlusion centred on all voxels in our image, we would have to do `torch.prod(im.shape) = 96^3 = ~1e6` predictions. We can use the bounding box to only to the estimations in a region of interest, for example over one slice.\n",
    "\n",
    "To do this, we simply give the bounding box as `(minC,maxC,minD,maxD,minH,maxH,minW,maxW)`. We can use `-1` for any value to use its full extent (`0` and `im.shape-1` for min's and max's, respectively).\n",
    "\n",
    "#### Output\n",
    "The output image in this example will look fairly bad, since our network hasn't been trained for very long. Training for longer should improve the quality of the occlusion map."
   ]
  },
  {
   "cell_type": "markdown",
   "metadata": {},
   "source": [
    "# Testing the Model\n",
    "On given data "
   ]
  },
  {
   "cell_type": "code",
   "execution_count": 5,
   "metadata": {},
   "outputs": [],
   "source": [
    "import pickle\n",
    "\n",
    "modelPickle = \"/HippoDense/EfficientNet/EfficientNet_20220603_035507.pickle\"\n",
    "savedModel = open(modelPickle, 'rb')\n",
    "trainedModel = pickle.load(savedModel)\n",
    "savedModel.close()\n"
   ]
  },
  {
   "cell_type": "code",
   "execution_count": 6,
   "metadata": {},
   "outputs": [],
   "source": [
    "# create a validation data loader\n",
    "test_ds = ImageDataset(image_files=images[-10:], labels=labels[-10:], transform=val_transforms)\n",
    "test_loader = DataLoader(val_ds, batch_size=1, num_workers=2, pin_memory=torch.cuda.is_available())\n",
    "itera = iter(test_loader)\n",
    "\n",
    "\n",
    "def get_next_im():\n",
    "    test_data = next(itera)\n",
    "    return test_data[0].to(device), test_data[1].unsqueeze(0).to(device)\n",
    "\n",
    "\n",
    "def plot_occlusion_heatmap(im, heatmap):\n",
    "    plt.subplots(1, 2)\n",
    "    plt.subplot(1, 2, 1)\n",
    "    plt.imshow(np.squeeze(im.cpu()))\n",
    "    plt.colorbar()\n",
    "    plt.subplot(1, 2, 2)\n",
    "    plt.imshow(heatmap)\n",
    "    plt.colorbar()\n",
    "    plt.show()"
   ]
  },
  {
   "cell_type": "code",
   "execution_count": 13,
   "metadata": {},
   "outputs": [
    {
     "name": "stdout",
     "output_type": "stream",
     "text": [
      "Execution Time for image 1 is 0.040650129318237305 sec\n",
      "**** (tensor([[ 2.6070, -2.4342]], device='cuda:0'), tensor([[0., 1.]], device='cuda:0'))\n",
      "Execution Time for image 2 is 0.04082989692687988 sec\n",
      "**** (tensor([[ 2.5677, -2.1427]], device='cuda:0'), tensor([[1., 0.]], device='cuda:0'))\n",
      "Execution Time for image 3 is 0.0403437614440918 sec\n",
      "**** (tensor([[ 0.8322, -1.0477]], device='cuda:0'), tensor([[1., 0.]], device='cuda:0'))\n",
      "Execution Time for image 4 is 0.04065418243408203 sec\n",
      "**** (tensor([[ 2.4559, -2.3681]], device='cuda:0'), tensor([[1., 0.]], device='cuda:0'))\n",
      "Execution Time for image 5 is 0.04034113883972168 sec\n",
      "**** (tensor([[ 2.8965, -2.5164]], device='cuda:0'), tensor([[1., 0.]], device='cuda:0'))\n",
      "Execution Time for image 6 is 0.0402529239654541 sec\n",
      "**** (tensor([[ 2.8985, -2.4217]], device='cuda:0'), tensor([[1., 0.]], device='cuda:0'))\n",
      "Execution Time for image 7 is 0.040856122970581055 sec\n",
      "**** (tensor([[ 1.1098, -1.3855]], device='cuda:0'), tensor([[1., 0.]], device='cuda:0'))\n",
      "Execution Time for image 8 is 0.04070854187011719 sec\n",
      "**** (tensor([[ 2.6966, -2.4582]], device='cuda:0'), tensor([[1., 0.]], device='cuda:0'))\n",
      "Execution Time for image 9 is 0.04066157341003418 sec\n",
      "**** (tensor([[ 2.6034, -2.2085]], device='cuda:0'), tensor([[1., 0.]], device='cuda:0'))\n",
      "Execution Time for image 10 is 0.04073190689086914 sec\n",
      "**** (tensor([[ 2.9163, -2.4555]], device='cuda:0'), tensor([[1., 0.]], device='cuda:0'))\n",
      "Execution Time for image 11 is 0.040506601333618164 sec\n",
      "**** (tensor([[ 1.0107, -1.1501]], device='cuda:0'), tensor([[1., 0.]], device='cuda:0'))\n",
      "Execution Time for image 12 is 0.04080772399902344 sec\n",
      "**** (tensor([[ 2.2102, -2.2106]], device='cuda:0'), tensor([[1., 0.]], device='cuda:0'))\n",
      "Execution Time for image 13 is 0.041207313537597656 sec\n",
      "**** (tensor([[ 2.5943, -2.2429]], device='cuda:0'), tensor([[1., 0.]], device='cuda:0'))\n",
      "Execution Time for image 14 is 0.041253089904785156 sec\n",
      "**** (tensor([[ 2.7024, -2.4256]], device='cuda:0'), tensor([[1., 0.]], device='cuda:0'))\n",
      "Execution Time for image 15 is 0.041249752044677734 sec\n",
      "**** (tensor([[ 2.9214, -2.5085]], device='cuda:0'), tensor([[1., 0.]], device='cuda:0'))\n",
      "Execution Time for image 16 is 0.041239261627197266 sec\n",
      "**** (tensor([[ 2.9347, -2.4148]], device='cuda:0'), tensor([[1., 0.]], device='cuda:0'))\n",
      "Execution Time for image 17 is 0.04111456871032715 sec\n",
      "**** (tensor([[ 2.9563, -2.4496]], device='cuda:0'), tensor([[1., 0.]], device='cuda:0'))\n",
      "Execution Time for image 18 is 0.04105949401855469 sec\n",
      "**** (tensor([[ 2.9652, -2.4988]], device='cuda:0'), tensor([[1., 0.]], device='cuda:0'))\n",
      "Execution Time for image 19 is 0.04106259346008301 sec\n",
      "**** (tensor([[ 2.9229, -2.4382]], device='cuda:0'), tensor([[1., 0.]], device='cuda:0'))\n",
      "Execution Time for image 20 is 0.04099011421203613 sec\n",
      "**** (tensor([[ 2.7344, -2.5144]], device='cuda:0'), tensor([[1., 0.]], device='cuda:0'))\n",
      "Execution Time for image 21 is 0.041060447692871094 sec\n",
      "**** (tensor([[ 2.3201, -2.1513]], device='cuda:0'), tensor([[1., 0.]], device='cuda:0'))\n",
      "Execution Time for image 22 is 0.04124855995178223 sec\n",
      "**** (tensor([[ 2.6992, -2.1586]], device='cuda:0'), tensor([[1., 0.]], device='cuda:0'))\n",
      "Execution Time for image 23 is 0.041129350662231445 sec\n",
      "**** (tensor([[ 2.4300, -2.2825]], device='cuda:0'), tensor([[1., 0.]], device='cuda:0'))\n",
      "Execution Time for image 24 is 0.05652213096618652 sec\n",
      "**** (tensor([[ 2.9518, -2.4406]], device='cuda:0'), tensor([[1., 0.]], device='cuda:0'))\n",
      "Execution Time for image 25 is 0.04448580741882324 sec\n",
      "**** (tensor([[ 2.7764, -2.1985]], device='cuda:0'), tensor([[1., 0.]], device='cuda:0'))\n",
      "Execution Time for image 26 is 0.041117191314697266 sec\n",
      "**** (tensor([[ 2.9595, -2.5744]], device='cuda:0'), tensor([[1., 0.]], device='cuda:0'))\n",
      "Execution Time for image 27 is 0.04115605354309082 sec\n",
      "**** (tensor([[ 2.7864, -2.3119]], device='cuda:0'), tensor([[1., 0.]], device='cuda:0'))\n",
      "Execution Time for image 28 is 0.04138994216918945 sec\n",
      "**** (tensor([[ 2.7398, -2.3893]], device='cuda:0'), tensor([[0., 1.]], device='cuda:0'))\n",
      "Execution Time for image 29 is 0.04123687744140625 sec\n",
      "**** (tensor([[ 2.8585, -2.5493]], device='cuda:0'), tensor([[1., 0.]], device='cuda:0'))\n",
      "Execution Time for image 30 is 0.059850215911865234 sec\n",
      "**** (tensor([[ 2.5734, -2.4116]], device='cuda:0'), tensor([[1., 0.]], device='cuda:0'))\n",
      "Execution Time for image 31 is 0.04311704635620117 sec\n",
      "**** (tensor([[ 1.0867, -1.1800]], device='cuda:0'), tensor([[1., 0.]], device='cuda:0'))\n",
      "Execution Time for image 32 is 0.04160618782043457 sec\n",
      "**** (tensor([[ 2.8338, -2.4879]], device='cuda:0'), tensor([[1., 0.]], device='cuda:0'))\n",
      "Execution Time for image 33 is 0.04159975051879883 sec\n",
      "**** (tensor([[ 2.8765, -2.3920]], device='cuda:0'), tensor([[1., 0.]], device='cuda:0'))\n",
      "Execution Time for image 34 is 0.04125523567199707 sec\n",
      "**** (tensor([[ 2.0350, -1.9827]], device='cuda:0'), tensor([[1., 0.]], device='cuda:0'))\n",
      "Execution Time for image 35 is 0.041326045989990234 sec\n",
      "**** (tensor([[-0.0040,  0.0796]], device='cuda:0'), tensor([[0., 1.]], device='cuda:0'))\n",
      "Execution Time for image 36 is 0.04867863655090332 sec\n",
      "**** (tensor([[-0.9997,  1.4483]], device='cuda:0'), tensor([[0., 1.]], device='cuda:0'))\n",
      "Execution Time for image 37 is 0.04145550727844238 sec\n",
      "**** (tensor([[ 2.6291, -2.4438]], device='cuda:0'), tensor([[1., 0.]], device='cuda:0'))\n",
      "Execution Time for image 38 is 0.041510820388793945 sec\n",
      "**** (tensor([[ 3.0485, -2.5259]], device='cuda:0'), tensor([[1., 0.]], device='cuda:0'))\n",
      "Execution Time for image 39 is 0.04177737236022949 sec\n",
      "**** (tensor([[ 2.5296, -2.2657]], device='cuda:0'), tensor([[1., 0.]], device='cuda:0'))\n",
      "Execution Time for image 40 is 0.0419163703918457 sec\n",
      "**** (tensor([[ 2.9114, -2.4768]], device='cuda:0'), tensor([[1., 0.]], device='cuda:0'))\n",
      "Execution Time for image 41 is 0.04185199737548828 sec\n",
      "**** (tensor([[ 2.5119, -2.1915]], device='cuda:0'), tensor([[1., 0.]], device='cuda:0'))\n",
      "Execution Time for image 42 is 0.04197406768798828 sec\n",
      "**** (tensor([[ 1.8814, -2.1457]], device='cuda:0'), tensor([[1., 0.]], device='cuda:0'))\n",
      "Execution Time for image 43 is 0.04194211959838867 sec\n",
      "**** (tensor([[ 2.8285, -2.4651]], device='cuda:0'), tensor([[1., 0.]], device='cuda:0'))\n",
      "Execution Time for image 44 is 0.04169464111328125 sec\n",
      "**** (tensor([[ 2.7586, -2.4012]], device='cuda:0'), tensor([[1., 0.]], device='cuda:0'))\n",
      "Execution Time for image 45 is 0.04202461242675781 sec\n",
      "**** (tensor([[ 1.9472, -1.8544]], device='cuda:0'), tensor([[1., 0.]], device='cuda:0'))\n",
      "Execution Time for image 46 is 0.041600704193115234 sec\n",
      "**** (tensor([[ 2.9967, -2.5934]], device='cuda:0'), tensor([[1., 0.]], device='cuda:0'))\n",
      "Execution Time for image 47 is 0.04193997383117676 sec\n",
      "**** (tensor([[ 2.4642, -2.3442]], device='cuda:0'), tensor([[1., 0.]], device='cuda:0'))\n",
      "Execution Time for image 48 is 0.041574716567993164 sec\n",
      "**** (tensor([[ 2.9381, -2.4422]], device='cuda:0'), tensor([[1., 0.]], device='cuda:0'))\n",
      "Execution Time for image 49 is 0.04185295104980469 sec\n",
      "**** (tensor([[ 2.4166, -2.1689]], device='cuda:0'), tensor([[1., 0.]], device='cuda:0'))\n",
      "Execution Time for image 50 is 0.04190850257873535 sec\n",
      "**** (tensor([[ 2.9439, -2.5624]], device='cuda:0'), tensor([[1., 0.]], device='cuda:0'))\n",
      "Execution Time for image 51 is 0.041814565658569336 sec\n",
      "**** (tensor([[ 2.0945, -2.0054]], device='cuda:0'), tensor([[1., 0.]], device='cuda:0'))\n",
      "Accuracy of the model based on the test set of 50 inputs is: 98 %\n"
     ]
    }
   ],
   "source": [
    "import time\n",
    "metric_count = -1\n",
    "num_correct = 0\n",
    "numImages = 251\n",
    "\n",
    "running_accuracy = 0 \n",
    "total = 0 \n",
    "trainedModel.eval()\n",
    "i = 1\n",
    "for val_data in val_loader:\n",
    "    timestart = time.time()\n",
    "    val_images, val_labels = val_data[0].to(device), val_data[1].to(device)\n",
    "    with torch.no_grad():\n",
    "        val_outputs = trainedModel(val_images)\n",
    "        value = torch.eq(val_outputs.argmax(dim=1), val_labels.argmax(dim=1))\n",
    "        metric_count += len(value)\n",
    "        num_correct += value.sum().item()\n",
    "        # print(val_outputs)\n",
    "        \n",
    "        # predicted_outputs = trainedModel(val_images)\n",
    "        # _ , predicted = torch.max(predicted_outputs, 1) \n",
    "        # total += val_labels.size(0) \n",
    "        # running_accuracy += (predicted == val_labels).sum().item() \n",
    "        print(\"Execution Time for image {} is {} sec\".format(i, (time.time() - timestart)))\n",
    "        print(\"****\", (val_outputs , val_labels))\n",
    "        i += 1\n",
    "\n",
    "print('Accuracy of the model based on the test set of', metric_count ,'inputs is: %d %%' % (100 * num_correct / metric_count))\n",
    "# print(\"Accuracy Min = \", (100 * num_correct /numImages ) )\n",
    "\n"
   ]
  },
  {
   "cell_type": "code",
   "execution_count": 57,
   "metadata": {},
   "outputs": [
    {
     "name": "stdout",
     "output_type": "stream",
     "text": [
      "torch.Size([1, 256, 256, 208]) torch.Size([1, 1, 2])\n"
     ]
    }
   ],
   "source": [
    "tt = Compose([ScaleIntensity()])\n",
    "t_ds = ImageDataset(image_files=images, labels=labels)\n",
    "t_loader = DataLoader(t_ds, batch_size=1)\n",
    "iterat = iter(t_loader)\n",
    "\n",
    "\n",
    "def get_next_im():\n",
    "    t_data = next(iterat)\n",
    "    return t_data[0].to(device), t_data[1].unsqueeze(0).to(device)\n",
    "imgT, labelT = get_next_im()\n",
    "print(imgT.shape, labelT.shape)"
   ]
  },
  {
   "cell_type": "code",
   "execution_count": 58,
   "metadata": {},
   "outputs": [
    {
     "ename": "RuntimeError",
     "evalue": "Boolean value of Tensor with more than one value is ambiguous",
     "output_type": "error",
     "traceback": [
      "\u001b[0;31m---------------------------------------------------------------------------\u001b[0m",
      "\u001b[0;31mRuntimeError\u001b[0m                              Traceback (most recent call last)",
      "\u001b[1;32m/HippoDense/DenseNet256_40.ipynb Cell 16'\u001b[0m in \u001b[0;36m<cell line: 5>\u001b[0;34m()\u001b[0m\n\u001b[1;32m      <a href='vscode-notebook-cell://attached-container%2B7b22636f6e7461696e65724e616d65223a222f6164436c617373696669636174696f6e486970706f44222c2273657474696e6773223a7b22686f7374223a227373683a2f2f3130362e3234302e3233342e313135227d7d/HippoDense/DenseNet256_40.ipynb#ch0000017vscode-remote?line=1'>2</a>\u001b[0m \u001b[39mimport\u001b[39;00m \u001b[39mnumpy\u001b[39;00m \u001b[39mas\u001b[39;00m \u001b[39mnp\u001b[39;00m\n\u001b[1;32m      <a href='vscode-notebook-cell://attached-container%2B7b22636f6e7461696e65724e616d65223a222f6164436c617373696669636174696f6e486970706f44222c2273657474696e6773223a7b22686f7374223a227373683a2f2f3130362e3234302e3233342e313135227d7d/HippoDense/DenseNet256_40.ipynb#ch0000017vscode-remote?line=2'>3</a>\u001b[0m \u001b[39m# pathNifti = \"/home/usman/Desktop/Datasets/dldirect_results/seg_Right-Hippocampus.nii.gz\"\u001b[39;00m\n\u001b[1;32m      <a href='vscode-notebook-cell://attached-container%2B7b22636f6e7461696e65724e616d65223a222f6164436c617373696669636174696f6e486970706f44222c2273657474696e6773223a7b22686f7374223a227373683a2f2f3130362e3234302e3233342e313135227d7d/HippoDense/DenseNet256_40.ipynb#ch0000017vscode-remote?line=3'>4</a>\u001b[0m \u001b[39m# img = image.load_img(pathNifti)\u001b[39;00m\n\u001b[0;32m----> <a href='vscode-notebook-cell://attached-container%2B7b22636f6e7461696e65724e616d65223a222f6164436c617373696669636174696f6e486970706f44222c2273657474696e6773223a7b22686f7374223a227373683a2f2f3130362e3234302e3233342e313135227d7d/HippoDense/DenseNet256_40.ipynb#ch0000017vscode-remote?line=4'>5</a>\u001b[0m plotting\u001b[39m.\u001b[39;49mplot_glass_brain(imgT)\n",
      "File \u001b[0;32m/opt/conda/lib/python3.8/site-packages/nilearn/plotting/img_plotting.py:1030\u001b[0m, in \u001b[0;36mplot_glass_brain\u001b[0;34m(stat_map_img, output_file, display_mode, colorbar, cbar_tick_format, figure, axes, title, threshold, annotate, black_bg, cmap, alpha, vmin, vmax, plot_abs, symmetric_cbar, resampling_interpolation, **kwargs)\u001b[0m\n\u001b[1;32m   <a href='file:///opt/conda/lib/python3.8/site-packages/nilearn/plotting/img_plotting.py?line=1026'>1027</a>\u001b[0m \u001b[39mif\u001b[39;00m cmap \u001b[39mis\u001b[39;00m \u001b[39mNone\u001b[39;00m:\n\u001b[1;32m   <a href='file:///opt/conda/lib/python3.8/site-packages/nilearn/plotting/img_plotting.py?line=1027'>1028</a>\u001b[0m     cmap \u001b[39m=\u001b[39m cm\u001b[39m.\u001b[39mcold_hot \u001b[39mif\u001b[39;00m black_bg \u001b[39melse\u001b[39;00m cm\u001b[39m.\u001b[39mcold_white_hot\n\u001b[0;32m-> <a href='file:///opt/conda/lib/python3.8/site-packages/nilearn/plotting/img_plotting.py?line=1029'>1030</a>\u001b[0m \u001b[39mif\u001b[39;00m stat_map_img:\n\u001b[1;32m   <a href='file:///opt/conda/lib/python3.8/site-packages/nilearn/plotting/img_plotting.py?line=1030'>1031</a>\u001b[0m     stat_map_img \u001b[39m=\u001b[39m _utils\u001b[39m.\u001b[39mcheck_niimg_3d(stat_map_img, dtype\u001b[39m=\u001b[39m\u001b[39m'\u001b[39m\u001b[39mauto\u001b[39m\u001b[39m'\u001b[39m)\n\u001b[1;32m   <a href='file:///opt/conda/lib/python3.8/site-packages/nilearn/plotting/img_plotting.py?line=1031'>1032</a>\u001b[0m     \u001b[39mif\u001b[39;00m plot_abs:\n",
      "\u001b[0;31mRuntimeError\u001b[0m: Boolean value of Tensor with more than one value is ambiguous"
     ]
    }
   ],
   "source": [
    "from nilearn import plotting, image\n",
    "import numpy as np\n",
    "# pathNifti = \"/home/usman/Desktop/Datasets/dldirect_results/seg_Right-Hippocampus.nii.gz\"\n",
    "# img = image.load_img(pathNifti)\n",
    "plotting.plot_glass_brain(imgT)\n"
   ]
  },
  {
   "cell_type": "code",
   "execution_count": null,
   "metadata": {},
   "outputs": [],
   "source": [
    "view = plotting.view_img_on_surf(img, threshold='80%', cmap=nilearn_cmaps['cold_hot'])\n",
    "# view.open_in_browser()\n",
    "\n",
    "view"
   ]
  },
  {
   "cell_type": "code",
   "execution_count": 28,
   "metadata": {
    "scrolled": true,
    "tags": []
   },
   "outputs": [
    {
     "name": "stderr",
     "output_type": "stream",
     "text": [
      "Computing occlusion sensitivity: 100%|██████████| 64/64 [00:00<00:00, 228.46it/s]\n"
     ]
    },
    {
     "data": {
      "image/png": "[encoded data removed]",
      "text/plain": [
       "<Figure size 1800x1080 with 4 Axes>"
      ]
     },
     "metadata": {},
     "output_type": "display_data"
    }
   ],
   "source": [
    "# Get the occlusion sensitivity map\n",
    "occ_sens = monai.visualize.OcclusionSensitivity(nn_module=trainedModel, mask_size=12, n_batch=10, stride=12)\n",
    "# Only get a single slice to save time.\n",
    "# For the other dimensions (channel, width, height), use\n",
    "# -1 to use 0 and img.shape[x]-1 for min and max, respectively\n",
    "depth_slice = img.shape[3] // 2\n",
    "occ_sens_b_box = [-1, -1, depth_slice, depth_slice, -1, -1, -1, -1]\n",
    "\n",
    "occ_result, _ = occ_sens(x=img, b_box=occ_sens_b_box)\n",
    "occ_result = occ_result[..., label.argmax().item()]\n",
    "\n",
    "fig, axes = plt.subplots(1, 2, figsize=(25, 15), facecolor=\"white\")\n",
    "\n",
    "for i, im in enumerate([img[:, :, 50, ...], occ_result]):\n",
    "    cmap = \"gray\" if i == 0 else \"jet\"\n",
    "    ax = axes[i]\n",
    "    im_show = ax.imshow(np.squeeze(im[0][0].detach().cpu()), cmap=cmap)\n",
    "    ax.axis(\"off\")\n",
    "    fig.colorbar(im_show, ax=ax)"
   ]
  },
  {
   "cell_type": "markdown",
   "metadata": {},
   "source": [
    "## Cleanup data directory\n",
    "\n",
    "Remove directory if a temporary was used."
   ]
  },
  {
   "cell_type": "code",
   "execution_count": 11,
   "metadata": {},
   "outputs": [],
   "source": [
    "if directory is None:\n",
    "    shutil.rmtree(root_dir)"
   ]
  }
 ],
 "metadata": {
  "interpreter": {
   "hash": "d4d1e4263499bec80672ea0156c357c1ee493ec2b1c70f0acce89fc37c4a6abe"
  },
  "kernelspec": {
   "display_name": "Python 3.8.13 ('base')",
   "language": "python",
   "name": "python3"
  },
  "language_info": {
   "codemirror_mode": {
    "name": "ipython",
    "version": 3
   },
   "file_extension": ".py",
   "mimetype": "text/x-python",
   "name": "python",
   "nbconvert_exporter": "python",
   "pygments_lexer": "ipython3",
   "version": "3.8.13"
  }
 },
 "nbformat": 4,
 "nbformat_minor": 4
}
